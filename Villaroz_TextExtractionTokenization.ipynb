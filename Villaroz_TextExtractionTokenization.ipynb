{
  "nbformat": 4,
  "nbformat_minor": 0,
  "metadata": {
    "colab": {
      "provenance": [],
      "include_colab_link": true
    },
    "kernelspec": {
      "name": "python3",
      "display_name": "Python 3"
    },
    "language_info": {
      "name": "python"
    }
  },
  "cells": [
    {
      "cell_type": "markdown",
      "metadata": {
        "id": "view-in-github",
        "colab_type": "text"
      },
      "source": [
        "<a href=\"https://colab.research.google.com/github/Shandy42200/Extracting-Text-Data-and-Performing-TokenizationAssignment/blob/main/Villaroz_TextExtractionTokenization.ipynb\" target=\"_parent\"><img src=\"https://colab.research.google.com/assets/colab-badge.svg\" alt=\"Open In Colab\"/></a>"
      ]
    },
    {
      "cell_type": "markdown",
      "source": [
        "# Shandy A. Villaroz\n",
        "# BSIT-4R5"
      ],
      "metadata": {
        "id": "3eCdLBv5SkQs"
      }
    },
    {
      "cell_type": "markdown",
      "source": [
        "1. Display the sample content of your page (10 pts)\n",
        "2. Use the Split function to get the number of words (10 pts)\n",
        "3. Use the Split function to get the number of sentences (10 pts)\n",
        "4. Use NLTK framework to get the number of words (10 pts)\n",
        "5. Use NLTK framework to get the number of sentences (10 pts)"
      ],
      "metadata": {
        "id": "f7L9oJ9Hq0T4"
      }
    },
    {
      "cell_type": "code",
      "source": [
        "import sys\n",
        "! {sys.executable} -m pip install pdfplumber"
      ],
      "metadata": {
        "colab": {
          "base_uri": "https://localhost:8080/",
          "height": 0
        },
        "id": "eFFft4bZVEwD",
        "outputId": "1fa22e6d-5e08-457c-cf7d-56b2ca78349f"
      },
      "execution_count": 1,
      "outputs": [
        {
          "output_type": "stream",
          "name": "stdout",
          "text": [
            "Looking in indexes: https://pypi.org/simple, https://us-python.pkg.dev/colab-wheels/public/simple/\n",
            "Requirement already satisfied: pdfplumber in /root/.local/lib/python3.8/site-packages (0.7.6)\n",
            "Requirement already satisfied: Pillow>=9.1 in /root/.local/lib/python3.8/site-packages (from pdfplumber) (9.3.0)\n",
            "Requirement already satisfied: pdfminer.six==20221105 in /root/.local/lib/python3.8/site-packages (from pdfplumber) (20221105)\n",
            "Requirement already satisfied: Wand>=0.6.10 in /root/.local/lib/python3.8/site-packages (from pdfplumber) (0.6.10)\n",
            "Requirement already satisfied: charset-normalizer>=2.0.0 in /usr/local/lib/python3.8/dist-packages (from pdfminer.six==20221105->pdfplumber) (2.1.1)\n",
            "Requirement already satisfied: cryptography>=36.0.0 in /root/.local/lib/python3.8/site-packages (from pdfminer.six==20221105->pdfplumber) (38.0.4)\n",
            "Requirement already satisfied: cffi>=1.12 in /usr/local/lib/python3.8/dist-packages (from cryptography>=36.0.0->pdfminer.six==20221105->pdfplumber) (1.15.1)\n",
            "Requirement already satisfied: pycparser in /usr/local/lib/python3.8/dist-packages (from cffi>=1.12->cryptography>=36.0.0->pdfminer.six==20221105->pdfplumber) (2.21)\n"
          ]
        }
      ]
    },
    {
      "cell_type": "code",
      "source": [
        "# import the required libraries\n",
        "\n",
        "import pdfplumber\n",
        "import nltk\n",
        "import re\n",
        "import string\n",
        "nltk.download('punkt')"
      ],
      "metadata": {
        "colab": {
          "base_uri": "https://localhost:8080/",
          "height": 0
        },
        "id": "BugVI3WXN9bw",
        "outputId": "9fa6c2f7-8bab-4a6b-e2e6-fb63f7954131"
      },
      "execution_count": 2,
      "outputs": [
        {
          "output_type": "stream",
          "name": "stderr",
          "text": [
            "[nltk_data] Downloading package punkt to /root/nltk_data...\n",
            "[nltk_data]   Unzipping tokenizers/punkt.zip.\n"
          ]
        },
        {
          "output_type": "execute_result",
          "data": {
            "text/plain": [
              "True"
            ]
          },
          "metadata": {},
          "execution_count": 2
        }
      ]
    },
    {
      "cell_type": "code",
      "source": [
        "with pdfplumber.open(\"textMiningLabExer1.pdf\") as pdf:\n",
        "  # my page assigned 6-9\n",
        "  # index starts at 0\n",
        "  # so pages on code would be 5-8\n",
        "  page1 = pdf.pages[5]\n",
        "  page2 = pdf.pages[6]\n",
        "  page3 = pdf.pages[7]\n",
        "  page4 = pdf.pages[8]\n",
        "  text1 = page1.extract_text()\n",
        "  text2 = page2.extract_text()\n",
        "  text3 = page3.extract_text()\n",
        "  text4 = page4.extract_text()"
      ],
      "metadata": {
        "id": "8QnIizZGrk9N"
      },
      "execution_count": 3,
      "outputs": []
    },
    {
      "cell_type": "markdown",
      "source": [
        "## 1) Display the sample content of your page"
      ],
      "metadata": {
        "id": "W1oB-3yEq5Cj"
      }
    },
    {
      "cell_type": "code",
      "source": [
        "text = text1, text2, text3, text4\n",
        "textstr = str(text)"
      ],
      "metadata": {
        "id": "KUl-540rVHuj"
      },
      "execution_count": 4,
      "outputs": []
    },
    {
      "cell_type": "code",
      "source": [
        "textstr"
      ],
      "metadata": {
        "id": "gePsCDodumz5",
        "colab": {
          "base_uri": "https://localhost:8080/",
          "height": 140
        },
        "outputId": "e9e96f55-fccb-45e6-c4a3-d2476a7b2888"
      },
      "execution_count": 5,
      "outputs": [
        {
          "output_type": "execute_result",
          "data": {
            "text/plain": [
              "\"('A/75/592/Add.6  13/01/2021\\\\nMicronesia has minimal responsibility. Any other result would be a gross legal and \\\\nmoral injustice.\\\\nMicronesia encourages other States to consider making similar observations \\\\nwith their deposits.\\\\n Mr. President,\\\\nMicronesia joins its immediate neighbors, the Republic of Palau, the Republic \\\\nof the Marshall Islands, the Republic of Nauru, and the Republic of Kiribati, in \\\\ncelebrating the actions of the ECOSOC and the General Assembly to establish a UN \\\\nMulti-Country Office in the North Pacific.\\\\nIt has taken over 15 years for us to achieve this result. With challenges of \\\\na global scale affecting island nations like ours in the Pacific, a UN presence on \\\\nthe ground will be extremely helpful. This important decision reflects the UN’s \\\\ncommitment to address the concerns of even the most vulnerable and smallest of \\\\nits members. Micronesia is proud to become the host for this office, and extends its \\\\ngratitude to both the United Nations at large as well as its brothers and sisters in the \\\\nNorth Pacific for their support.\\\\nMr. President,\\\\nThe Federated States of Micronesia recognizes Secretary-General Guterres’ \\\\nroad map for digital cooperation and the gaps made clear by the COVID-19 Pandemic. \\\\nA digital inter-dependent World has the potential to advance our social and economic \\\\naspirations or leave many of us behind.\\\\nThrough assistance provided from partners such as the World Bank, the \\\\nAsian Development Bank, the United Nations, and the United States of America, \\\\nMicronesia is hoping to build an inclusive digital economy, develop human and \\\\ninstitutional capacity, protect human rights, promote digital trust, and foster global \\\\ndigital cooperation. I am hopeful that global digital cooperation can help us combat \\\\nevils such as human trafficking, illegal, unregulated, and unreported fishing, and \\\\npromote positive efforts such as online education and tele-health programming.\\\\nThere is much work that needs to be done in this area, and the challenges are \\\\nimmense. While we are working hard to democratize knowledge through making \\\\ninternet and cellphone access more accessible and more affordable, there remain \\\\nsignificant technical and capacity gaps. Micronesia wishes to strengthen existing \\\\npartnerships, and develop new ones, in its effort to build a digital future.\\\\nMr. President,\\\\nA better world is not something we ask for. A better world is something we \\\\nbuild. We define a better world through consensus, with a foundation of empathy and \\\\nlove for other human beings. We construct a better world by acknowledging that we \\\\nare who we choose to be, and then choosing to take responsibility for both ourselves \\\\nand our communities.\\\\nFor the small nations of the world, the United Nations today is more important \\\\nthan ever.\\\\nThank you, Mr. President.\\\\n6/80  21-00392', '13/01/2021  A/75/592/Add.6\\\\nHoly See (see also A/75/PV.10, annex II)\\\\nAddress by His Holiness Pope Francis\\\\nDelivered on Friday, 25 September 2020, at the 10th meeting of the General Assembly\\\\n [Original: Spanish; English translation provided by the delegation]\\\\nMr. President,\\\\nPeace be with all of you!\\\\nI offer cordial greetings to you, Mr President, and to all the Delegations taking \\\\npart in this significant Seventy-fifth Session of the United Nations General Assembly. \\\\nIn particular, I greet the Secretary General, Mr António Guterres, the participating \\\\nHeads of State and Government, and all those who are following the General Debate.\\\\nThe seventy-fifth 1anniversary of the United Nations offers me a fitting occasion \\\\nto express once again the Holy See’s desire that this Organization increasingly \\\\nserve as a sign of unity between States and an instrument of service to the entire  \\\\nhuman family.\\\\nIn these days, our world continues to be impacted by the COVID-19 pandemic, \\\\nwhich has led to the loss of so many lives. This crisis is changing our way of life, \\\\ncalling into question our economic, health and social systems, and exposing our \\\\nhuman fragility.\\\\nThe pandemic, indeed, calls us “to seize this time of trial as a time of \\\\nchoosing, a time to choose what matters and what passes away, a time to separate \\\\nwhat is necessary from what is not”2. It can represent a concrete opportunity for \\\\nconversion, for transformation, for rethinking our way of life and our economic and \\\\nsocial systems, which are widening the gap between rich and poor based on an unjust \\\\ndistribution of resources. On the other hand, the pandemic can be the occasion for a \\\\n“defensive retreat” into greater individualism and elitism.\\\\nWe are faced, then, with a choice between two possible paths. One path leads \\\\nto the consolidation of multilateralism as the expression of a renewed sense of global \\\\nco-responsibility, a solidarity grounded in justice and the attainment of peace and \\\\nunity within the human family, which is God’s plan for our world. The other path \\\\nemphasizes self-sufficiency, nationalism, protectionism, individualism and isolation; \\\\nit excludes the poor, the vulnerable and those dwelling on the peripheries of life. That \\\\npath would certainly be detrimental to the whole community, causing self-inflicted \\\\nwounds on everyone. It must not prevail.\\\\nThe pandemic has highlighted the urgent need to promote public health and \\\\nto make every person’s right to basic medical care a reality.3 For this reason, I renew \\\\nmy appeal to political leaders and the private sector to spare no effort to ensure \\\\naccess to COVID-19 vaccines and to the essential technologies needed to care for the \\\\nsick. If anyone should be given preference, let it be the poorest, the most vulnerable, \\\\nthose who so often experience discrimination because they have neither power nor \\\\neconomic resources.\\\\n1  Address to the General Assembly of the United Nations, 25 September 2015; BENEDICT XVI, Address to \\\\nthe General Assembly of the United Nations, 18 April 2008.\\\\n2  Meditation during the Extraordinary Moment of Prayer in the Time of Pandemic, 27 March 2020.\\\\n3  Universal Declaration of Human Rights, Article 25.1.\\\\n21-00392  7/80', 'A/75/592/Add.6  13/01/2021\\\\nThe  current  crisis  has  also  demonstrated  that  solidarity  must  not  be  an \\\\nempty word or promise. It has also shown us the importance of avoiding every \\\\ntemptation to exceed our natural limits. “We have the freedom needed to limit \\\\nand direct technology; we can put it at the service of another type of progress, one \\\\nwhich is healthier, more human, more social, more integral”.4 This also needs to \\\\nbe taken into careful consideration in discussions on the complex issue of artificial  \\\\nintelligence (AI).\\\\nAlong these same lines, I think of the effects of the pandemic on employment, \\\\na sector already destabilized by a labour market driven by increasing uncertainty and \\\\nwidespread robotization. There is an urgent need to find new forms of work truly \\\\ncapable of fulfilling our human potential and affirming our dignity. In order to ensure \\\\ndignified employment, there must be a change in the prevailing economic paradigm, \\\\nwhich seeks only to expand companies’ profits. Offering jobs to more people should \\\\nbe one of the main objectives of every business, one of the criteria for the success of \\\\nproductive activity. Technological progress is valuable and necessary, provided that it \\\\nserves to make people’s work more dignified and safe, less burdensome and stressful.\\\\nAll this calls for a change of direction. To achieve this, we already possess the \\\\nnecessary cultural and technological resources, and social awareness. This change \\\\nof direction will require, however, a more robust ethical framework capable of \\\\novercoming “today’s widespread and quietly growing culture of waste”.5\\\\nAt the origin of this “throwaway culture” is a gross lack of respect for human \\\\ndignity, the promotion of ideologies with reductive understandings of the human \\\\nperson, a denial of the universality of fundamental human rights, and a craving for \\\\nabsolute power and control that is widespread in today’s society. Let us name this for \\\\nwhat it is: an attack against humanity itself.\\\\nIt is in fact painful to see the number of fundamental human rights that in \\\\nour day continue to be violated with impunity. The list of such violations is indeed \\\\nlengthy, and offers us a frightening picture of a humanity abused, wounded, deprived \\\\nof dignity, freedom and hope for the future. As part of this picture, religious believers \\\\ncontinue to endure every kind of persecution, including genocide, because of their \\\\nbeliefs. We Christians too are victims of this: how many of our brothers and sisters \\\\nthroughout the world are suffering, forced at times to flee from their ancestral lands, \\\\ncut off from their rich history and culture.\\\\nWe should also admit that humanitarian crises have become the status quo, \\\\nin which people’s right to life, liberty and personal security are not protected. \\\\nIndeed, as shown by conflicts worldwide, the use of explosive weapons, especially in \\\\npopulated areas, is having a dramatic long-term humanitarian impact. Conventional \\\\nweapons are becoming less and less “conventional” and more and more “weapons \\\\nof mass destruction”, wreaking havoc on cities, schools, hospitals, religious sites, \\\\ninfrastructures and basic services needed by the population.\\\\nWhat is more, great numbers of people are being forced to leave their homes. \\\\nRefugees, migrants and the internally displaced frequently find themselves abandoned \\\\nin their countries of origin, transit and destination, deprived of any chance to better \\\\ntheir situation in life and that of their families. Worse still, thousands are intercepted \\\\nat sea and forcibly returned to detention camps, where they meet with torture and \\\\nabuse. Many of these become victims of human trafficking, sexual slavery or forced \\\\n4  Encyclical Letter Laudato Si’, 112.\\\\n5  Address to the General Assembly of the United Nations Organization, 25 September 2015.\\\\n8/80  21-00392', '13/01/2021  A/75/592/Add.6\\\\nlabour, exploited in degrading jobs and denied a just wage. This is intolerable, yet \\\\nintentionally ignored by many!\\\\nThe numerous and significant international efforts to respond to these crises \\\\nbegin with great promise — here I think of the two Global Compacts on Refugees and \\\\non Migration — yet many lack the necessary political support to prove successful. \\\\nOthers fail because individual states shirk their responsibilities and commitments. \\\\nAll the same, the current crisis offers an opportunity for the United Nations to help \\\\nbuild a more fraternal and compassionate society.\\\\nThis includes reconsidering the role of economic and financial institutions, \\\\nlike that of Bretton-Woods, which must respond to the rapidly growing inequality \\\\nbetween the super-rich and the permanently poor. An economic model that encourages \\\\nsubsidiarity, supports economic development at the local level and invests in education \\\\nand infrastructure benefiting local communities, will lay the foundation not only for \\\\neconomic success but also for the renewal of the larger community and nation. Here \\\\nI would renew my appeal that \\\\n“in light of the present circumstances… all nations be enabled to meet the \\\\ngreatest needs of the moment through the reduction, if not the forgiveness, of \\\\nthe debt burdening the balance sheets of the poorest nations”.6\\\\nThe international community ought to make every effort to put an end to \\\\neconomic injustices.\\\\n“When  multilateral  credit  organizations  provide  advice  to  various \\\\nnations, it is important to keep in mind the lofty concepts of fiscal justice, the \\\\npublic budgets responsible for their indebtedness and, above all, an effective \\\\npromotion  of  the  poorest,  which  makes  them  protagonists  in  the  social \\\\nnetwork.”7\\\\nWe have a responsibility to offer development assistance to poor nations and \\\\ndebt relief to highly indebted nations.\\\\n“A new ethics presupposes being aware of the need for everyone to work \\\\ntogether to close tax shelters, avoid evasions and money laundering that rob \\\\nsociety, as well as to speak to nations about the importance of defending justice \\\\nand the common good over the interests of the most powerful companies  \\\\nand multinationals.” 8 \\\\nNow is a fitting time to renew the architecture of international finance.9\\\\nMr. President, \\\\nFive  years  ago,  I  had  the  opportunity  to  address  the  General  Assembly \\\\nin person on its seventieth anniversary. My visit took place at a time marked by \\\\ntruly dynamic multilateralism. It was a moment of great hope and promise for the \\\\ninternational community, on the eve of the adoption of the 2030 Agenda for Sustainable \\\\nDevelopment. Some months later, the Paris Agreement on Climate Change was  \\\\nalso adopted. \\\\nYet we must honestly admit that, even though some progress has been made, \\\\nthe international community has shown itself largely incapable of honouring the \\\\n6  Urbi et Orbi Message, 12 April 2020.\\\\n7  Address to the Participants in the Seminar “New Forms of Solidarity”, 5 February 2020. \\\\n8  Ibid.\\\\n9  Cf. ibid.\\\\n21-00392  9/80')\""
            ],
            "application/vnd.google.colaboratory.intrinsic+json": {
              "type": "string"
            }
          },
          "metadata": {},
          "execution_count": 5
        }
      ]
    },
    {
      "cell_type": "markdown",
      "source": [
        "## 2) Use the Split function to get the number of words"
      ],
      "metadata": {
        "id": "3uiUE-nVq9oo"
      }
    },
    {
      "cell_type": "code",
      "source": [
        "def remove_punc(textstr):\n",
        "  # remove raw new lines\n",
        "  textstr = textstr.replace(\"\\\\n\", \"\")\n",
        "  # define punctuation\n",
        "  punctuations = '''!()-[]{};:\"\\,<>/?@#$%^-&_0123456789~*'''\n",
        "  # remove punctuation from the string\n",
        "  no_punct = \"\"\n",
        "  for char in textstr:\n",
        "    if char not in punctuations:\n",
        "      no_punct = no_punct + char\n",
        "  return no_punct"
      ],
      "metadata": {
        "id": "ztT6QmgTu5wX"
      },
      "execution_count": 6,
      "outputs": []
    },
    {
      "cell_type": "code",
      "source": [
        "clean_text = remove_punc(textstr)"
      ],
      "metadata": {
        "id": "NUxTwe8SvsXg"
      },
      "execution_count": 7,
      "outputs": []
    },
    {
      "cell_type": "code",
      "source": [
        "print(len(clean_text.split()))"
      ],
      "metadata": {
        "id": "fm3dB3QlsTYy",
        "colab": {
          "base_uri": "https://localhost:8080/",
          "height": 0
        },
        "outputId": "2d468611-c9ba-4174-d0e0-0c18a655d706"
      },
      "execution_count": 8,
      "outputs": [
        {
          "output_type": "stream",
          "name": "stdout",
          "text": [
            "1964\n"
          ]
        }
      ]
    },
    {
      "cell_type": "markdown",
      "source": [
        "## 3) Use the Split function to get the number of sentences"
      ],
      "metadata": {
        "id": "A1yEWh_IrAuO"
      }
    },
    {
      "cell_type": "code",
      "source": [
        "print(len(clean_text.split(\".\")))"
      ],
      "metadata": {
        "id": "w3RW2NJNuHto",
        "colab": {
          "base_uri": "https://localhost:8080/",
          "height": 0
        },
        "outputId": "a6589592-0bdb-485f-f0fb-282c02a6fc0c"
      },
      "execution_count": 9,
      "outputs": [
        {
          "output_type": "stream",
          "name": "stdout",
          "text": [
            "100\n"
          ]
        }
      ]
    },
    {
      "cell_type": "markdown",
      "source": [
        "## 4) Use NLTK framework to get the number of words"
      ],
      "metadata": {
        "id": "8TEXeQIWrCs_"
      }
    },
    {
      "cell_type": "code",
      "source": [
        "# word tokenizer\n",
        "def tokenizeText1(textstr):\n",
        "  word_tokens = nltk.word_tokenize(textstr)\n",
        "  return word_tokens"
      ],
      "metadata": {
        "id": "Avz0dYTuxsZb"
      },
      "execution_count": 10,
      "outputs": []
    },
    {
      "cell_type": "code",
      "source": [
        "tokenized_word = str(tokenizeText1(clean_text))"
      ],
      "metadata": {
        "id": "8OR_2hPIzhay"
      },
      "execution_count": 11,
      "outputs": []
    },
    {
      "cell_type": "code",
      "source": [
        "print(len(tokenized_word.split()))"
      ],
      "metadata": {
        "id": "5HmfCXrZz0ET",
        "colab": {
          "base_uri": "https://localhost:8080/",
          "height": 0
        },
        "outputId": "3c1c9266-3193-4990-b625-c48901418bae"
      },
      "execution_count": 12,
      "outputs": [
        {
          "output_type": "stream",
          "name": "stdout",
          "text": [
            "2071\n"
          ]
        }
      ]
    },
    {
      "cell_type": "markdown",
      "source": [
        "## 5) Use NLTK framework to get the number of sentences"
      ],
      "metadata": {
        "id": "oj-3wSUprF44"
      }
    },
    {
      "cell_type": "code",
      "source": [
        "# sentence tokenizer\n",
        "def tokenizeText2(textstr):\n",
        "  word_tokens = nltk.sent_tokenize(textstr)\n",
        "  return word_tokens"
      ],
      "metadata": {
        "id": "yAQSQlvzWeoN"
      },
      "execution_count": 13,
      "outputs": []
    },
    {
      "cell_type": "code",
      "source": [
        "tokenized_sent = str(tokenizeText2(clean_text))"
      ],
      "metadata": {
        "id": "GJ5GGfMFWlU1"
      },
      "execution_count": 14,
      "outputs": []
    },
    {
      "cell_type": "code",
      "source": [
        "print(len(tokenized_sent.split(\".\")))"
      ],
      "metadata": {
        "id": "Ug1wc_YvWzvP",
        "colab": {
          "base_uri": "https://localhost:8080/",
          "height": 0
        },
        "outputId": "a7541447-ce3e-44be-9b4e-a33c09d3dc67"
      },
      "execution_count": 15,
      "outputs": [
        {
          "output_type": "stream",
          "name": "stdout",
          "text": [
            "100\n"
          ]
        }
      ]
    }
  ]
}